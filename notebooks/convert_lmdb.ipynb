{
 "cells": [
  {
   "cell_type": "code",
   "execution_count": 1,
   "id": "0bb161b6-abbf-487e-92a7-d31c8795052c",
   "metadata": {},
   "outputs": [],
   "source": [
    "import os\n",
    "import glob\n",
    "import pandas as pd"
   ]
  },
  {
   "cell_type": "code",
   "execution_count": 7,
   "id": "dab9d03c-0395-47a8-8adb-bd9f74b06bda",
   "metadata": {},
   "outputs": [
    {
     "data": {
      "text/plain": [
       "Index(['image', 'label'], dtype='object')"
      ]
     },
     "execution_count": 7,
     "metadata": {},
     "output_type": "execute_result"
    }
   ],
   "source": [
    "DATA_DIR = \"../data/char_dataset/archive\"\n",
    "\n",
    "d_english = pd.read_csv(os.path.join(DATA_DIR, 'english.csv'))\n",
    "\n",
    "d_english.columns"
   ]
  },
  {
   "cell_type": "code",
   "execution_count": 2,
   "id": "64d60c42-5680-4114-9b8d-c63ff70648a6",
   "metadata": {},
   "outputs": [],
   "source": [
    "d_english.image = d_english.image.apply(lambda x: os.path.join(DATA_DIR, x).replace('\\\\', '/'))\n",
    "\n",
    "augmented_paths = glob.glob(os.path.join(DATA_DIR, 'augmented', '*', '*'))\n",
    "\n",
    "d_augmented = pd.DataFrame(augmented_paths, columns=['image'])\n",
    "\n",
    "d_augmented.image = d_augmented.image.apply(lambda x: x.replace('\\\\', '/'))\n",
    "\n",
    "d_augmented['label'] = d_augmented.image.apply(lambda x: x.split('/')[-2])\n",
    "\n",
    "d_dataset = pd.concat((d_english, d_augmented), axis = 0, ignore_index=True)"
   ]
  },
  {
   "cell_type": "code",
   "execution_count": 3,
   "id": "03295cb7-a9e0-4c84-9f77-cecf7e8f34bd",
   "metadata": {},
   "outputs": [
    {
     "data": {
      "text/html": [
       "<div>\n",
       "<style scoped>\n",
       "    .dataframe tbody tr th:only-of-type {\n",
       "        vertical-align: middle;\n",
       "    }\n",
       "\n",
       "    .dataframe tbody tr th {\n",
       "        vertical-align: top;\n",
       "    }\n",
       "\n",
       "    .dataframe thead th {\n",
       "        text-align: right;\n",
       "    }\n",
       "</style>\n",
       "<table border=\"1\" class=\"dataframe\">\n",
       "  <thead>\n",
       "    <tr style=\"text-align: right;\">\n",
       "      <th></th>\n",
       "      <th>image</th>\n",
       "      <th>label</th>\n",
       "    </tr>\n",
       "  </thead>\n",
       "  <tbody>\n",
       "    <tr>\n",
       "      <th>0</th>\n",
       "      <td>../data/char_dataset/archive/Img/img001-001.png</td>\n",
       "      <td>0</td>\n",
       "    </tr>\n",
       "    <tr>\n",
       "      <th>1</th>\n",
       "      <td>../data/char_dataset/archive/Img/img001-002.png</td>\n",
       "      <td>0</td>\n",
       "    </tr>\n",
       "    <tr>\n",
       "      <th>2</th>\n",
       "      <td>../data/char_dataset/archive/Img/img001-003.png</td>\n",
       "      <td>0</td>\n",
       "    </tr>\n",
       "    <tr>\n",
       "      <th>3</th>\n",
       "      <td>../data/char_dataset/archive/Img/img001-004.png</td>\n",
       "      <td>0</td>\n",
       "    </tr>\n",
       "    <tr>\n",
       "      <th>4</th>\n",
       "      <td>../data/char_dataset/archive/Img/img001-005.png</td>\n",
       "      <td>0</td>\n",
       "    </tr>\n",
       "    <tr>\n",
       "      <th>...</th>\n",
       "      <td>...</td>\n",
       "      <td>...</td>\n",
       "    </tr>\n",
       "    <tr>\n",
       "      <th>8410</th>\n",
       "      <td>../data/char_dataset/archive/augmented/99/99_5...</td>\n",
       "      <td>99</td>\n",
       "    </tr>\n",
       "    <tr>\n",
       "      <th>8411</th>\n",
       "      <td>../data/char_dataset/archive/augmented/99/99_6...</td>\n",
       "      <td>99</td>\n",
       "    </tr>\n",
       "    <tr>\n",
       "      <th>8412</th>\n",
       "      <td>../data/char_dataset/archive/augmented/99/99_7...</td>\n",
       "      <td>99</td>\n",
       "    </tr>\n",
       "    <tr>\n",
       "      <th>8413</th>\n",
       "      <td>../data/char_dataset/archive/augmented/99/99_8...</td>\n",
       "      <td>99</td>\n",
       "    </tr>\n",
       "    <tr>\n",
       "      <th>8414</th>\n",
       "      <td>../data/char_dataset/archive/augmented/99/99_9...</td>\n",
       "      <td>99</td>\n",
       "    </tr>\n",
       "  </tbody>\n",
       "</table>\n",
       "<p>8415 rows × 2 columns</p>\n",
       "</div>"
      ],
      "text/plain": [
       "                                                  image label\n",
       "0       ../data/char_dataset/archive/Img/img001-001.png     0\n",
       "1       ../data/char_dataset/archive/Img/img001-002.png     0\n",
       "2       ../data/char_dataset/archive/Img/img001-003.png     0\n",
       "3       ../data/char_dataset/archive/Img/img001-004.png     0\n",
       "4       ../data/char_dataset/archive/Img/img001-005.png     0\n",
       "...                                                 ...   ...\n",
       "8410  ../data/char_dataset/archive/augmented/99/99_5...    99\n",
       "8411  ../data/char_dataset/archive/augmented/99/99_6...    99\n",
       "8412  ../data/char_dataset/archive/augmented/99/99_7...    99\n",
       "8413  ../data/char_dataset/archive/augmented/99/99_8...    99\n",
       "8414  ../data/char_dataset/archive/augmented/99/99_9...    99\n",
       "\n",
       "[8415 rows x 2 columns]"
      ]
     },
     "execution_count": 3,
     "metadata": {},
     "output_type": "execute_result"
    }
   ],
   "source": [
    "d_dataset"
   ]
  },
  {
   "cell_type": "code",
   "execution_count": 4,
   "id": "d1bb24b5-0951-41d8-b300-e7eeedbd7b89",
   "metadata": {},
   "outputs": [],
   "source": [
    "from sklearn.model_selection import train_test_split\n",
    "\n",
    "train_df, test_df = train_test_split(d_dataset, test_size=0.2, random_state=42)\n",
    "# we reset the indices to start from zero\n",
    "train_df.reset_index(drop=True, inplace=True)\n",
    "test_df.reset_index(drop=True, inplace=True)"
   ]
  },
  {
   "cell_type": "code",
   "execution_count": 5,
   "id": "a2293e21-3fe0-45bc-b19b-e7d191d1ffd9",
   "metadata": {},
   "outputs": [
    {
     "data": {
      "text/html": [
       "<div>\n",
       "<style scoped>\n",
       "    .dataframe tbody tr th:only-of-type {\n",
       "        vertical-align: middle;\n",
       "    }\n",
       "\n",
       "    .dataframe tbody tr th {\n",
       "        vertical-align: top;\n",
       "    }\n",
       "\n",
       "    .dataframe thead th {\n",
       "        text-align: right;\n",
       "    }\n",
       "</style>\n",
       "<table border=\"1\" class=\"dataframe\">\n",
       "  <thead>\n",
       "    <tr style=\"text-align: right;\">\n",
       "      <th></th>\n",
       "      <th>image</th>\n",
       "      <th>label</th>\n",
       "    </tr>\n",
       "  </thead>\n",
       "  <tbody>\n",
       "    <tr>\n",
       "      <th>0</th>\n",
       "      <td>../data/char_dataset/archive/augmented/21/21_1...</td>\n",
       "      <td>21</td>\n",
       "    </tr>\n",
       "    <tr>\n",
       "      <th>1</th>\n",
       "      <td>../data/char_dataset/archive/augmented/91/91_7...</td>\n",
       "      <td>91</td>\n",
       "    </tr>\n",
       "    <tr>\n",
       "      <th>2</th>\n",
       "      <td>../data/char_dataset/archive/Img/img037-039.png</td>\n",
       "      <td>a</td>\n",
       "    </tr>\n",
       "    <tr>\n",
       "      <th>3</th>\n",
       "      <td>../data/char_dataset/archive/Img/img004-008.png</td>\n",
       "      <td>3</td>\n",
       "    </tr>\n",
       "    <tr>\n",
       "      <th>4</th>\n",
       "      <td>../data/char_dataset/archive/augmented/40/40_3...</td>\n",
       "      <td>40</td>\n",
       "    </tr>\n",
       "    <tr>\n",
       "      <th>...</th>\n",
       "      <td>...</td>\n",
       "      <td>...</td>\n",
       "    </tr>\n",
       "    <tr>\n",
       "      <th>6727</th>\n",
       "      <td>../data/char_dataset/archive/augmented/51/51_2...</td>\n",
       "      <td>51</td>\n",
       "    </tr>\n",
       "    <tr>\n",
       "      <th>6728</th>\n",
       "      <td>../data/char_dataset/archive/augmented/41/41_2...</td>\n",
       "      <td>41</td>\n",
       "    </tr>\n",
       "    <tr>\n",
       "      <th>6729</th>\n",
       "      <td>../data/char_dataset/archive/augmented/45/45_0...</td>\n",
       "      <td>45</td>\n",
       "    </tr>\n",
       "    <tr>\n",
       "      <th>6730</th>\n",
       "      <td>../data/char_dataset/archive/Img/img016-036.png</td>\n",
       "      <td>F</td>\n",
       "    </tr>\n",
       "    <tr>\n",
       "      <th>6731</th>\n",
       "      <td>../data/char_dataset/archive/augmented/79/79_1...</td>\n",
       "      <td>79</td>\n",
       "    </tr>\n",
       "  </tbody>\n",
       "</table>\n",
       "<p>6732 rows × 2 columns</p>\n",
       "</div>"
      ],
      "text/plain": [
       "                                                  image label\n",
       "0     ../data/char_dataset/archive/augmented/21/21_1...    21\n",
       "1     ../data/char_dataset/archive/augmented/91/91_7...    91\n",
       "2       ../data/char_dataset/archive/Img/img037-039.png     a\n",
       "3       ../data/char_dataset/archive/Img/img004-008.png     3\n",
       "4     ../data/char_dataset/archive/augmented/40/40_3...    40\n",
       "...                                                 ...   ...\n",
       "6727  ../data/char_dataset/archive/augmented/51/51_2...    51\n",
       "6728  ../data/char_dataset/archive/augmented/41/41_2...    41\n",
       "6729  ../data/char_dataset/archive/augmented/45/45_0...    45\n",
       "6730    ../data/char_dataset/archive/Img/img016-036.png     F\n",
       "6731  ../data/char_dataset/archive/augmented/79/79_1...    79\n",
       "\n",
       "[6732 rows x 2 columns]"
      ]
     },
     "execution_count": 5,
     "metadata": {},
     "output_type": "execute_result"
    }
   ],
   "source": [
    "train_df"
   ]
  },
  {
   "cell_type": "code",
   "execution_count": 11,
   "id": "3e7b2e69-c664-41f1-bcd7-51745f2d28d0",
   "metadata": {},
   "outputs": [],
   "source": [
    "d_english.to_csv('english.txt', sep='\\t', index=False, header=False)"
   ]
  },
  {
   "cell_type": "code",
   "execution_count": null,
   "id": "2efb0b2c-3482-4071-9554-e9f249599a85",
   "metadata": {},
   "outputs": [],
   "source": []
  }
 ],
 "metadata": {
  "kernelspec": {
   "display_name": "Python 3 (ipykernel)",
   "language": "python",
   "name": "python3"
  },
  "language_info": {
   "codemirror_mode": {
    "name": "ipython",
    "version": 3
   },
   "file_extension": ".py",
   "mimetype": "text/x-python",
   "name": "python",
   "nbconvert_exporter": "python",
   "pygments_lexer": "ipython3",
   "version": "3.9.13"
  }
 },
 "nbformat": 4,
 "nbformat_minor": 5
}
