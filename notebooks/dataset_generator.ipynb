{
 "cells": [
  {
   "cell_type": "code",
   "execution_count": 1,
   "id": "61eb26f9-1683-45a0-918f-70c31b9e3077",
   "metadata": {},
   "outputs": [],
   "source": [
    "import os\n",
    "import random\n",
    "import pandas as pd\n",
    "import numpy as np\n",
    "import matplotlib.pyplot as plt\n",
    "import itertools\n",
    "\n",
    "import cv2"
   ]
  },
  {
   "cell_type": "code",
   "execution_count": 2,
   "id": "4b7b489a-7c59-4c50-9ea9-8ba9bdc23533",
   "metadata": {},
   "outputs": [],
   "source": [
    "### generate dataset\n",
    "### 0-9\n",
    "### A-Z\n",
    "### 2 character"
   ]
  },
  {
   "cell_type": "code",
   "execution_count": 3,
   "id": "8817f428-dbe8-418a-a569-b655eb261685",
   "metadata": {},
   "outputs": [],
   "source": [
    "DATA_DIR = '../data/char_dataset/archive'"
   ]
  },
  {
   "cell_type": "code",
   "execution_count": 4,
   "id": "c786056d-134d-4c68-a4d5-6ce8aa95b597",
   "metadata": {},
   "outputs": [],
   "source": [
    "d_dataset = pd.read_csv(os.path.join(DATA_DIR, 'english.csv'))"
   ]
  },
  {
   "cell_type": "code",
   "execution_count": 5,
   "id": "83bf8766-85f1-4b43-9db5-1bcbf9449ac1",
   "metadata": {},
   "outputs": [
    {
     "data": {
      "text/html": [
       "<div>\n",
       "<style scoped>\n",
       "    .dataframe tbody tr th:only-of-type {\n",
       "        vertical-align: middle;\n",
       "    }\n",
       "\n",
       "    .dataframe tbody tr th {\n",
       "        vertical-align: top;\n",
       "    }\n",
       "\n",
       "    .dataframe thead th {\n",
       "        text-align: right;\n",
       "    }\n",
       "</style>\n",
       "<table border=\"1\" class=\"dataframe\">\n",
       "  <thead>\n",
       "    <tr style=\"text-align: right;\">\n",
       "      <th></th>\n",
       "      <th>image</th>\n",
       "      <th>label</th>\n",
       "    </tr>\n",
       "  </thead>\n",
       "  <tbody>\n",
       "    <tr>\n",
       "      <th>0</th>\n",
       "      <td>Img/img001-001.png</td>\n",
       "      <td>0</td>\n",
       "    </tr>\n",
       "    <tr>\n",
       "      <th>1</th>\n",
       "      <td>Img/img001-002.png</td>\n",
       "      <td>0</td>\n",
       "    </tr>\n",
       "    <tr>\n",
       "      <th>2</th>\n",
       "      <td>Img/img001-003.png</td>\n",
       "      <td>0</td>\n",
       "    </tr>\n",
       "    <tr>\n",
       "      <th>3</th>\n",
       "      <td>Img/img001-004.png</td>\n",
       "      <td>0</td>\n",
       "    </tr>\n",
       "    <tr>\n",
       "      <th>4</th>\n",
       "      <td>Img/img001-005.png</td>\n",
       "      <td>0</td>\n",
       "    </tr>\n",
       "    <tr>\n",
       "      <th>...</th>\n",
       "      <td>...</td>\n",
       "      <td>...</td>\n",
       "    </tr>\n",
       "    <tr>\n",
       "      <th>3405</th>\n",
       "      <td>Img/img062-051.png</td>\n",
       "      <td>z</td>\n",
       "    </tr>\n",
       "    <tr>\n",
       "      <th>3406</th>\n",
       "      <td>Img/img062-052.png</td>\n",
       "      <td>z</td>\n",
       "    </tr>\n",
       "    <tr>\n",
       "      <th>3407</th>\n",
       "      <td>Img/img062-053.png</td>\n",
       "      <td>z</td>\n",
       "    </tr>\n",
       "    <tr>\n",
       "      <th>3408</th>\n",
       "      <td>Img/img062-054.png</td>\n",
       "      <td>z</td>\n",
       "    </tr>\n",
       "    <tr>\n",
       "      <th>3409</th>\n",
       "      <td>Img/img062-055.png</td>\n",
       "      <td>z</td>\n",
       "    </tr>\n",
       "  </tbody>\n",
       "</table>\n",
       "<p>3410 rows × 2 columns</p>\n",
       "</div>"
      ],
      "text/plain": [
       "                   image label\n",
       "0     Img/img001-001.png     0\n",
       "1     Img/img001-002.png     0\n",
       "2     Img/img001-003.png     0\n",
       "3     Img/img001-004.png     0\n",
       "4     Img/img001-005.png     0\n",
       "...                  ...   ...\n",
       "3405  Img/img062-051.png     z\n",
       "3406  Img/img062-052.png     z\n",
       "3407  Img/img062-053.png     z\n",
       "3408  Img/img062-054.png     z\n",
       "3409  Img/img062-055.png     z\n",
       "\n",
       "[3410 rows x 2 columns]"
      ]
     },
     "execution_count": 5,
     "metadata": {},
     "output_type": "execute_result"
    }
   ],
   "source": [
    "d_dataset"
   ]
  },
  {
   "cell_type": "code",
   "execution_count": 6,
   "id": "aefd47d7-fec3-429a-8164-562bf717caff",
   "metadata": {},
   "outputs": [
    {
     "data": {
      "text/plain": [
       "0    55\n",
       "k    55\n",
       "X    55\n",
       "Y    55\n",
       "Z    55\n",
       "     ..\n",
       "P    55\n",
       "Q    55\n",
       "R    55\n",
       "S    55\n",
       "z    55\n",
       "Name: label, Length: 62, dtype: int64"
      ]
     },
     "execution_count": 6,
     "metadata": {},
     "output_type": "execute_result"
    }
   ],
   "source": [
    "d_dataset.label.value_counts()"
   ]
  },
  {
   "cell_type": "markdown",
   "id": "a8656e33-c1d2-4164-a689-9643deef76d3",
   "metadata": {},
   "source": [
    "---"
   ]
  },
  {
   "cell_type": "code",
   "execution_count": 7,
   "id": "25a57081-b4b0-4fa3-a739-24223f523b43",
   "metadata": {},
   "outputs": [],
   "source": [
    "def generated_image_arr(sample):\n",
    "    \n",
    "    first = [0, 700]\n",
    "    middle = [350, 800]\n",
    "    last = [350, -1]\n",
    "    \n",
    "    im_arr_list = []\n",
    "    for idx, img_path in enumerate(sample):\n",
    "\n",
    "        im_arr = cv2.imread(os.path.join(DATA_DIR, img_path))\n",
    "        if idx == 0:\n",
    "            im_arr = im_arr[:, first[0]:first[1], :]\n",
    "        elif idx == (len(sample)-1):\n",
    "            im_arr = im_arr[:, last[0]:last[1], :]\n",
    "        else:\n",
    "            im_arr = im_arr[:, middle[0]:middle[1], :]\n",
    "\n",
    "        im_arr_list.append(im_arr)\n",
    "        \n",
    "    return im_arr_list"
   ]
  },
  {
   "cell_type": "code",
   "execution_count": 8,
   "id": "89e76404-9b23-4944-b605-efcd3b890247",
   "metadata": {},
   "outputs": [],
   "source": [
    "def save_image(savepath, im_arr_list):\n",
    "    \n",
    "    os.makedirs(os.path.dirname(savepath), exist_ok=True)\n",
    "    im_output = np.concatenate(im_arr_list, axis=1)\n",
    "    plt.imsave(savepath, im_output)"
   ]
  },
  {
   "cell_type": "code",
   "execution_count": 9,
   "id": "7ad7d1fe-fd8b-48ba-a80e-bf2f85e4da6f",
   "metadata": {},
   "outputs": [],
   "source": [
    "def generated_main(generated):\n",
    "    for instance, sample in enumerate(samples):\n",
    "        savepath = f'{DATA_DIR}/augmented/{number_str}/{number_str}_{instance}.jpg'\n",
    "        im_arr_list = generated_image_arr(sample)\n",
    "        save_image(savepath, im_arr_list)"
   ]
  },
  {
   "cell_type": "code",
   "execution_count": 10,
   "id": "5f41895a-51e1-4201-b050-f7eb3bbde5ac",
   "metadata": {},
   "outputs": [],
   "source": [
    "for number in range(10, 101):\n",
    "    number_str = str(number)\n",
    "    \n",
    "    pathsource_list = []\n",
    "    for c in range(len(number_str)):\n",
    "        label = number_str[c]\n",
    "        filepath_list = d_dataset[d_dataset.label == label].image.tolist()\n",
    "        pathsource_list.append(filepath_list)\n",
    "        \n",
    "    candidates = list(itertools.product(*pathsource_list))\n",
    "    random.shuffle(candidates)\n",
    "    samples = random.sample(candidates, 55)\n",
    "    generated_main(samples)\n",
    "    "
   ]
  },
  {
   "cell_type": "code",
   "execution_count": null,
   "id": "de612feb-dfff-4d4b-9a41-3e86b943efa7",
   "metadata": {},
   "outputs": [],
   "source": []
  }
 ],
 "metadata": {
  "kernelspec": {
   "display_name": "Python 3 (ipykernel)",
   "language": "python",
   "name": "python3"
  },
  "language_info": {
   "codemirror_mode": {
    "name": "ipython",
    "version": 3
   },
   "file_extension": ".py",
   "mimetype": "text/x-python",
   "name": "python",
   "nbconvert_exporter": "python",
   "pygments_lexer": "ipython3",
   "version": "3.9.13"
  }
 },
 "nbformat": 4,
 "nbformat_minor": 5
}
