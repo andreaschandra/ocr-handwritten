{
 "cells": [
  {
   "cell_type": "code",
   "execution_count": 9,
   "id": "085c6e09-e385-447d-a5b9-346ca76d9c60",
   "metadata": {},
   "outputs": [],
   "source": [
    "import os\n",
    "import numpy as np\n",
    "import matplotlib.pyplot as plt\n",
    "import cv2\n",
    "import imutils\n",
    "from imutils import contours"
   ]
  },
  {
   "cell_type": "code",
   "execution_count": 2,
   "id": "a4150e93-a21f-4fb5-bdd3-04de8749a984",
   "metadata": {},
   "outputs": [],
   "source": [
    "DIR_PATH = '../data/data-ocr/data-ocr'"
   ]
  },
  {
   "cell_type": "code",
   "execution_count": 3,
   "id": "fafe735d-fdb3-47b3-8b58-75f4d2b8686a",
   "metadata": {},
   "outputs": [],
   "source": [
    "filenames = os.listdir(DIR_PATH)"
   ]
  },
  {
   "cell_type": "code",
   "execution_count": 4,
   "id": "ac0b1f0d-3580-4f3c-a4fa-f081b5692ddb",
   "metadata": {},
   "outputs": [],
   "source": [
    "for filename in filenames:\n",
    "    filepath = os.path.join(DIR_PATH, filename)\n",
    "    im_arr = cv2.imread(filepath)\n",
    "    break"
   ]
  },
  {
   "cell_type": "code",
   "execution_count": 5,
   "id": "44413aed-4deb-4889-821e-3dc3271efc6c",
   "metadata": {},
   "outputs": [],
   "source": [
    "im_arr2 = cv2.cvtColor(im_arr, cv2.COLOR_BGR2GRAY)"
   ]
  },
  {
   "cell_type": "code",
   "execution_count": 6,
   "id": "1b0e6169-24e8-4e4a-ad04-429dbd1e9fc2",
   "metadata": {},
   "outputs": [],
   "source": [
    "ref = cv2.threshold(im_arr2, 0, 255, cv2.THRESH_BINARY_INV | cv2.THRESH_OTSU)[1]"
   ]
  },
  {
   "cell_type": "code",
   "execution_count": 7,
   "id": "3bfbf78e-cf51-4414-bba6-a4cc8c0b3ffa",
   "metadata": {},
   "outputs": [],
   "source": [
    "refCnts = cv2.findContours(ref.copy(), cv2.RETR_EXTERNAL, cv2.CHAIN_APPROX_SIMPLE)"
   ]
  },
  {
   "cell_type": "code",
   "execution_count": 8,
   "id": "065e224b-e30e-4f50-b09d-8e3a6d2ed3bb",
   "metadata": {},
   "outputs": [],
   "source": [
    "refCnts = imutils.grab_contours(refCnts)"
   ]
  },
  {
   "cell_type": "code",
   "execution_count": 10,
   "id": "8dc187d9-bde6-42f2-b1da-174fa68feec1",
   "metadata": {},
   "outputs": [],
   "source": [
    "refCnts = contours.sort_contours(refCnts, method=\"left-to-right\")[0]"
   ]
  },
  {
   "cell_type": "code",
   "execution_count": 11,
   "id": "0f4c17b5-1302-4e2c-ae36-a8d25fa27474",
   "metadata": {},
   "outputs": [],
   "source": [
    "clone = np.dstack([ref.copy()]*3)"
   ]
  },
  {
   "cell_type": "code",
   "execution_count": 13,
   "id": "829f7143-8f42-4825-8b70-441d63f822b3",
   "metadata": {},
   "outputs": [
    {
     "data": {
      "text/plain": [
       "array([[[ 10, 870]],\n",
       "\n",
       "       [[  9, 871]],\n",
       "\n",
       "       [[  8, 871]],\n",
       "\n",
       "       [[  9, 872]],\n",
       "\n",
       "       [[  9, 882]],\n",
       "\n",
       "       [[  8, 883]],\n",
       "\n",
       "       [[  8, 884]],\n",
       "\n",
       "       [[ 12, 884]],\n",
       "\n",
       "       [[ 12, 882]],\n",
       "\n",
       "       [[ 13, 881]],\n",
       "\n",
       "       [[ 15, 881]],\n",
       "\n",
       "       [[ 16, 882]],\n",
       "\n",
       "       [[ 16, 883]],\n",
       "\n",
       "       [[ 17, 884]],\n",
       "\n",
       "       [[ 20, 884]],\n",
       "\n",
       "       [[ 20, 882]],\n",
       "\n",
       "       [[ 17, 879]],\n",
       "\n",
       "       [[ 17, 878]],\n",
       "\n",
       "       [[ 16, 877]],\n",
       "\n",
       "       [[ 16, 876]],\n",
       "\n",
       "       [[ 21, 871]],\n",
       "\n",
       "       [[ 20, 870]],\n",
       "\n",
       "       [[ 18, 870]],\n",
       "\n",
       "       [[ 18, 871]],\n",
       "\n",
       "       [[ 14, 875]],\n",
       "\n",
       "       [[ 13, 875]],\n",
       "\n",
       "       [[ 12, 874]],\n",
       "\n",
       "       [[ 13, 873]],\n",
       "\n",
       "       [[ 13, 872]],\n",
       "\n",
       "       [[ 14, 871]],\n",
       "\n",
       "       [[ 15, 871]],\n",
       "\n",
       "       [[ 14, 871]],\n",
       "\n",
       "       [[ 13, 870]]], dtype=int32)"
      ]
     },
     "execution_count": 13,
     "metadata": {},
     "output_type": "execute_result"
    }
   ],
   "source": [
    "refCnts[0]"
   ]
  },
  {
   "cell_type": "code",
   "execution_count": null,
   "id": "0a9be9cd-94b8-4331-a81e-cfb2f9cd987c",
   "metadata": {},
   "outputs": [],
   "source": [
    "im_arr2.shape"
   ]
  },
  {
   "cell_type": "code",
   "execution_count": null,
   "id": "71c29546-3688-4f82-bee9-29f00d3fa7e2",
   "metadata": {},
   "outputs": [],
   "source": [
    "len(contours)"
   ]
  },
  {
   "cell_type": "code",
   "execution_count": null,
   "id": "45f650d6-3264-47c6-82db-1ec48119a7f3",
   "metadata": {},
   "outputs": [],
   "source": [
    "contours"
   ]
  },
  {
   "cell_type": "code",
   "execution_count": null,
   "id": "1eb05de5-9251-472c-9b0c-33dcae826bc3",
   "metadata": {},
   "outputs": [],
   "source": [
    "im_arr3 = cv2.drawContours(im_arr, contours, -1, (0,255,0), 3)"
   ]
  },
  {
   "cell_type": "code",
   "execution_count": null,
   "id": "68b88614-0b6d-41e3-add8-98598650d001",
   "metadata": {},
   "outputs": [],
   "source": [
    "plt.imshow(im_arr)"
   ]
  },
  {
   "cell_type": "code",
   "execution_count": null,
   "id": "3225fcf9-10f8-4de8-8ef9-5dc7d1630096",
   "metadata": {},
   "outputs": [],
   "source": []
  }
 ],
 "metadata": {
  "kernelspec": {
   "display_name": "Python 3 (ipykernel)",
   "language": "python",
   "name": "python3"
  },
  "language_info": {
   "codemirror_mode": {
    "name": "ipython",
    "version": 3
   },
   "file_extension": ".py",
   "mimetype": "text/x-python",
   "name": "python",
   "nbconvert_exporter": "python",
   "pygments_lexer": "ipython3",
   "version": "3.9.13"
  }
 },
 "nbformat": 4,
 "nbformat_minor": 5
}
